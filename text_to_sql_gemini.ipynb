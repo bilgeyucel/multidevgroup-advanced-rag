{
  "cells": [
    {
      "cell_type": "markdown",
      "metadata": {
        "id": "view-in-github",
        "colab_type": "text"
      },
      "source": [
        "<a href=\"https://colab.research.google.com/github/bilgeyucel/multidevgroup-advanced-rag/blob/main/text_to_sql_gemini.ipynb\" target=\"_parent\"><img src=\"https://colab.research.google.com/assets/colab-badge.svg\" alt=\"Open In Colab\"/></a>"
      ]
    },
    {
      "cell_type": "markdown",
      "source": [
        "## Text-To-SQL with Gemini & Gemma3 & Haystack"
      ],
      "metadata": {
        "id": "HZHAk0TSB2Sf"
      }
    },
    {
      "cell_type": "code",
      "execution_count": 2,
      "metadata": {
        "id": "eRe8McrYnQ31"
      },
      "outputs": [],
      "source": [
        "!pip install -q haystack-ai google-ai-haystack"
      ]
    },
    {
      "cell_type": "code",
      "source": [
        "import os\n",
        "from getpass import getpass\n",
        "from google.colab import userdata\n",
        "\n",
        "os.environ[\"GOOGLE_API_KEY\"] = userdata.get('GOOGLE_API_KEY')"
      ],
      "metadata": {
        "id": "PbWl4YkhmrsA"
      },
      "execution_count": 3,
      "outputs": []
    },
    {
      "cell_type": "code",
      "source": [
        "import pandas as pd\n",
        "\n",
        "veri = {\n",
        "    \"ogrenci_no\": [\n",
        "        1001, 1002, 1003, 1004, 1005, 1006, 1007, 1008,\n",
        "        1009, 1010, 1011, 1012, 1013, 1014, 1015\n",
        "    ],\n",
        "    \"ad\": [\n",
        "        \"Ayşe\", \"Mehmet\", \"Elif\", \"Ahmet\", \"Zeynep\", \"Burak\", \"Fatma\", \"Can\",\n",
        "        \"Merve\", \"Emre\", \"Derya\", \"Onur\", \"Gizem\", \"Uğur\", \"Seda\"\n",
        "    ],\n",
        "    \"soyad\": [\n",
        "        \"Yılmaz\", \"Demir\", \"Kaya\", \"Çelik\", \"Koç\", \"Öztürk\", \"Arslan\", \"Şahin\",\n",
        "        \"Aydın\", \"Kurt\", \"Özkan\", \"Yıldız\", \"Ersoy\", \"Topal\", \"Aksoy\"\n",
        "    ],\n",
        "    \"cinsiyet\": [\n",
        "        \"Kadın\", \"Erkek\", \"Kadın\", \"Erkek\", \"Kadın\", \"Erkek\", \"Kadın\", \"Erkek\",\n",
        "        \"Kadın\", \"Erkek\", \"Kadın\", \"Erkek\", \"Kadın\", \"Erkek\", \"Kadın\"\n",
        "    ],\n",
        "    \"sinif\": [\n",
        "        \"10-A\", \"10-B\", \"10-A\", \"10-B\", \"10-A\", \"10-B\", \"10-A\", \"10-B\",\n",
        "        \"10-A\", \"10-B\", \"10-A\", \"10-B\", \"10-A\", \"10-B\", \"10-A\"\n",
        "    ],\n",
        "    \"ders\": [\n",
        "        \"Matematik\", \"Fizik\", \"Kimya\", \"Biyoloji\", \"Tarih\", \"Coğrafya\", \"Edebiyat\", \"Felsefe\",\n",
        "        \"Geometri\", \"İngilizce\", \"Almanca\", \"Fransızca\", \"Din Kültürü\", \"Beden Eğitimi\", \"Müzik\"\n",
        "    ],\n",
        "    \"sinav_notu\": [\n",
        "        85, 78, 92, 66, 74, 88, 90, 59,\n",
        "        81, 70, 69, 73, 95, 60, 87\n",
        "    ],\n",
        "    \"devamsizlik_gun_sayisi\": [\n",
        "        2, 5, 1, 7, 3, 0, 2, 9,\n",
        "        4, 6, 2, 3, 0, 8, 1\n",
        "    ],\n",
        "    \"sinifi_gecti_mi\": [\n",
        "        \"Evet\", \"Evet\", \"Evet\", \"Hayır\", \"Evet\", \"Evet\", \"Evet\", \"Hayır\",\n",
        "        \"Evet\", \"Evet\", \"Evet\", \"Evet\", \"Evet\", \"Hayır\", \"Evet\"\n",
        "    ]\n",
        "}\n",
        "\n",
        "df = pd.DataFrame(veri)\n",
        "df.to_csv(\"ogrenci_notlari.csv\", index=False, encoding=\"utf-8-sig\")"
      ],
      "metadata": {
        "id": "UNCQjScrjeYr"
      },
      "execution_count": 4,
      "outputs": []
    },
    {
      "cell_type": "code",
      "source": [
        "columns = df.columns.to_list()\n",
        "columns = ', '.join(columns)\n",
        "columns"
      ],
      "metadata": {
        "colab": {
          "base_uri": "https://localhost:8080/",
          "height": 35
        },
        "id": "ctLBbw8znKdI",
        "outputId": "0d9c0b49-cd56-4b0b-a230-0f0384649fcf"
      },
      "execution_count": 5,
      "outputs": [
        {
          "output_type": "execute_result",
          "data": {
            "text/plain": [
              "'ogrenci_no, ad, soyad, cinsiyet, sinif, ders, sinav_notu, devamsizlik_gun_sayisi, sinifi_gecti_mi'"
            ],
            "application/vnd.google.colaboratory.intrinsic+json": {
              "type": "string"
            }
          },
          "metadata": {},
          "execution_count": 5
        }
      ]
    },
    {
      "cell_type": "code",
      "source": [
        "import pandas as pd\n",
        "import sqlite3\n",
        "\n",
        "# CSV dosyasını oku\n",
        "df = pd.read_csv(\"ogrenci_notlari.csv\", encoding=\"utf-8-sig\")\n",
        "\n",
        "# SQLite veritabanı bağlantısı oluştur\n",
        "db_connection = sqlite3.connect(\"ogrenci_veritabani.db\")\n",
        "\n",
        "# Veriyi 'ogrenciler' adlı tabloya yaz (varsa üzerine yazar)\n",
        "df.to_sql(\"ogrenciler\", db_connection, if_exists=\"replace\", index=False)\n",
        "\n",
        "# Bağlantıyı kapat\n",
        "db_connection.close()"
      ],
      "metadata": {
        "id": "_M6nEBjgjiv0"
      },
      "execution_count": 6,
      "outputs": []
    },
    {
      "cell_type": "code",
      "execution_count": 7,
      "metadata": {
        "id": "nLPcc2ucn7Nh"
      },
      "outputs": [],
      "source": [
        "from typing import List\n",
        "from haystack import component\n",
        "import re\n",
        "\n",
        "@component\n",
        "class SQLConnector:\n",
        "\n",
        "    def __init__(self, sql_database: str):\n",
        "      self.connection = sqlite3.connect(sql_database, check_same_thread=False)\n",
        "\n",
        "    @component.output_types(results=List[str], queries=List[str])\n",
        "    def run(self, queries: List[str]):\n",
        "        results = []\n",
        "        pattern = r\"```sql\\s+(.*?)```\"\n",
        "\n",
        "        for query in queries:\n",
        "            extracted = re.findall(pattern, query, re.DOTALL)\n",
        "            sql_to_run = extracted[0] if extracted else query\n",
        "            try:\n",
        "                result = pd.read_sql(sql_to_run, self.connection)\n",
        "                results.append(str(result))\n",
        "            except Exception as e:\n",
        "                results.append(f\"Error: {e}\")\n",
        "\n",
        "        return {\"results\": results, \"queries\": queries}"
      ]
    },
    {
      "cell_type": "code",
      "source": [
        "sql_connector = SQLConnector('ogrenci_veritabani.db')"
      ],
      "metadata": {
        "id": "_mFjpC9mkRqP"
      },
      "execution_count": 8,
      "outputs": []
    },
    {
      "cell_type": "markdown",
      "source": [
        "### Tüm öğrencileri getir"
      ],
      "metadata": {
        "id": "EaEVHJZeoWyy"
      }
    },
    {
      "cell_type": "code",
      "source": [
        "result = sql_connector.run(queries=[\"SELECT * FROM ogrenciler;\"])\n",
        "print(result[\"results\"][0])"
      ],
      "metadata": {
        "colab": {
          "base_uri": "https://localhost:8080/"
        },
        "id": "OHeS9mQQkZrx",
        "outputId": "67e24a62-da39-4804-a793-564427d2fa06"
      },
      "execution_count": 9,
      "outputs": [
        {
          "output_type": "stream",
          "name": "stdout",
          "text": [
            "    ogrenci_no      ad   soyad cinsiyet sinif           ders  sinav_notu  \\\n",
            "0         1001    Ayşe  Yılmaz    Kadın  10-A      Matematik          85   \n",
            "1         1002  Mehmet   Demir    Erkek  10-B          Fizik          78   \n",
            "2         1003    Elif    Kaya    Kadın  10-A          Kimya          92   \n",
            "3         1004   Ahmet   Çelik    Erkek  10-B       Biyoloji          66   \n",
            "4         1005  Zeynep     Koç    Kadın  10-A          Tarih          74   \n",
            "5         1006   Burak  Öztürk    Erkek  10-B       Coğrafya          88   \n",
            "6         1007   Fatma  Arslan    Kadın  10-A       Edebiyat          90   \n",
            "7         1008     Can   Şahin    Erkek  10-B        Felsefe          59   \n",
            "8         1009   Merve   Aydın    Kadın  10-A       Geometri          81   \n",
            "9         1010    Emre    Kurt    Erkek  10-B      İngilizce          70   \n",
            "10        1011   Derya   Özkan    Kadın  10-A        Almanca          69   \n",
            "11        1012    Onur  Yıldız    Erkek  10-B      Fransızca          73   \n",
            "12        1013   Gizem   Ersoy    Kadın  10-A    Din Kültürü          95   \n",
            "13        1014    Uğur   Topal    Erkek  10-B  Beden Eğitimi          60   \n",
            "14        1015    Seda   Aksoy    Kadın  10-A          Müzik          87   \n",
            "\n",
            "    devamsizlik_gun_sayisi sinifi_gecti_mi  \n",
            "0                        2            Evet  \n",
            "1                        5            Evet  \n",
            "2                        1            Evet  \n",
            "3                        7           Hayır  \n",
            "4                        3            Evet  \n",
            "5                        0            Evet  \n",
            "6                        2            Evet  \n",
            "7                        9           Hayır  \n",
            "8                        4            Evet  \n",
            "9                        6            Evet  \n",
            "10                       2            Evet  \n",
            "11                       3            Evet  \n",
            "12                       0            Evet  \n",
            "13                       8           Hayır  \n",
            "14                       1            Evet  \n"
          ]
        }
      ]
    },
    {
      "cell_type": "markdown",
      "source": [
        "### Notu 80'den büyük olan öğrenciler"
      ],
      "metadata": {
        "id": "NwysR2Wckcjn"
      }
    },
    {
      "cell_type": "code",
      "source": [
        "result = sql_connector.run(queries=[\"SELECT ad, soyad, ders, sinav_notu FROM ogrenciler WHERE sinav_notu > 80;\"])\n",
        "print(result[\"results\"][0])"
      ],
      "metadata": {
        "colab": {
          "base_uri": "https://localhost:8080/"
        },
        "id": "qRrKYS06l5W2",
        "outputId": "5c2198af-575f-4d6d-eb53-1256f646bd4e"
      },
      "execution_count": 10,
      "outputs": [
        {
          "output_type": "stream",
          "name": "stdout",
          "text": [
            "      ad   soyad         ders  sinav_notu\n",
            "0   Ayşe  Yılmaz    Matematik          85\n",
            "1   Elif    Kaya        Kimya          92\n",
            "2  Burak  Öztürk     Coğrafya          88\n",
            "3  Fatma  Arslan     Edebiyat          90\n",
            "4  Merve   Aydın     Geometri          81\n",
            "5  Gizem   Ersoy  Din Kültürü          95\n",
            "6   Seda   Aksoy        Müzik          87\n"
          ]
        }
      ]
    },
    {
      "cell_type": "markdown",
      "source": [
        "### Haystack Pipeline"
      ],
      "metadata": {
        "id": "ZK5XbMOoAy3Y"
      }
    },
    {
      "cell_type": "code",
      "source": [
        "from haystack import Pipeline\n",
        "from haystack.components.builders import PromptBuilder\n",
        "from haystack_integrations.components.generators.google_ai import GoogleAIGeminiGenerator\n",
        "\n",
        "prompt = PromptBuilder(template=\"\"\"\n",
        "            Please generate an SQL query. The query should answer the following Question: {{question}};\n",
        "            The query is to be answered for the table is called 'ogrenciler' with the following\n",
        "            Columns: {{columns}};\n",
        "            Answer:\"\"\")\n",
        "sql_connector = SQLConnector('ogrenci_veritabani.db')\n",
        "llm = GoogleAIGeminiGenerator(model=\"gemini-2.0-flash\")\n",
        "\n",
        "sql_pipeline = Pipeline()\n",
        "sql_pipeline.add_component(\"prompt\", prompt)\n",
        "sql_pipeline.add_component(\"llm\", llm)\n",
        "sql_pipeline.add_component(\"sql_connector\", sql_connector)\n",
        "\n",
        "sql_pipeline.connect(\"prompt\", \"llm\")\n",
        "sql_pipeline.connect(\"llm.replies\", \"sql_connector.queries\")"
      ],
      "metadata": {
        "colab": {
          "base_uri": "https://localhost:8080/"
        },
        "id": "KGUNfxtkmtWN",
        "outputId": "683bbd77-4674-49a0-f660-1af048dbfcec"
      },
      "execution_count": 11,
      "outputs": [
        {
          "output_type": "execute_result",
          "data": {
            "text/plain": [
              "<haystack.core.pipeline.pipeline.Pipeline object at 0x7a10be1ffe50>\n",
              "🚅 Components\n",
              "  - prompt: PromptBuilder\n",
              "  - llm: GoogleAIGeminiGenerator\n",
              "  - sql_connector: SQLConnector\n",
              "🛤️ Connections\n",
              "  - prompt.prompt -> llm.parts (str)\n",
              "  - llm.replies -> sql_connector.queries (List[str])"
            ]
          },
          "metadata": {},
          "execution_count": 11
        }
      ]
    },
    {
      "cell_type": "code",
      "source": [
        "sql_pipeline.show()"
      ],
      "metadata": {
        "colab": {
          "base_uri": "https://localhost:8080/",
          "height": 997
        },
        "id": "9SUI2NcBm3V8",
        "outputId": "6a9d6ad4-7474-4168-c496-d277895da407"
      },
      "execution_count": 12,
      "outputs": [
        {
          "output_type": "display_data",
          "data": {
            "image/png": "[encoded data removed]",
            "text/plain": [
              "<IPython.core.display.Image object>"
            ]
          },
          "metadata": {}
        }
      ]
    },
    {
      "cell_type": "code",
      "source": [
        "result = sql_pipeline.run({\"prompt\": {\"question\": \"En fazla devamsızlık yapan 5 öğrenci kimdir?\",\n",
        "                            \"columns\": columns}}, include_outputs_from={\"llm\"})\n",
        "\n",
        "print(result[\"sql_connector\"][\"results\"][0])"
      ],
      "metadata": {
        "colab": {
          "base_uri": "https://localhost:8080/",
          "height": 124
        },
        "id": "NYfqYu1om8wS",
        "outputId": "3ff506ff-734b-4f3f-d1a7-2b5ea9f22744"
      },
      "execution_count": 13,
      "outputs": [
        {
          "output_type": "stream",
          "name": "stdout",
          "text": [
            "   ogrenci_no      ad  soyad\n",
            "0        1008     Can  Şahin\n",
            "1        1014    Uğur  Topal\n",
            "2        1004   Ahmet  Çelik\n",
            "3        1010    Emre   Kurt\n",
            "4        1002  Mehmet  Demir\n"
          ]
        }
      ]
    },
    {
      "cell_type": "code",
      "source": [
        "result = sql_pipeline.run({\"prompt\": {\"question\": \"En fazla devamsızlık yapan 5 öğrenci kimdir? Bana isim soyisim ve devamsızlık gün sayılarını getir\",\n",
        "                            \"columns\": columns}}, include_outputs_from={\"llm\"})\n",
        "\n",
        "print(result[\"sql_connector\"][\"results\"][0])"
      ],
      "metadata": {
        "colab": {
          "base_uri": "https://localhost:8080/",
          "height": 124
        },
        "id": "qZ442TqUo3Vo",
        "outputId": "0324d15c-97b8-448a-d65a-68b2e6f035a3"
      },
      "execution_count": 14,
      "outputs": [
        {
          "output_type": "stream",
          "name": "stdout",
          "text": [
            "       ad  soyad  devamsizlik_gun_sayisi\n",
            "0     Can  Şahin                       9\n",
            "1    Uğur  Topal                       8\n",
            "2   Ahmet  Çelik                       7\n",
            "3    Emre   Kurt                       6\n",
            "4  Mehmet  Demir                       5\n"
          ]
        }
      ]
    },
    {
      "cell_type": "code",
      "source": [
        "print(result[\"llm\"][\"replies\"][0])"
      ],
      "metadata": {
        "colab": {
          "base_uri": "https://localhost:8080/"
        },
        "id": "xOeSc0f6o9Gt",
        "outputId": "79cc1c37-d796-48d4-a9cb-161d8073eb43"
      },
      "execution_count": 15,
      "outputs": [
        {
          "output_type": "stream",
          "name": "stdout",
          "text": [
            "```sql\n",
            "SELECT ad, soyad, devamsizlik_gun_sayisi\n",
            "FROM ogrenciler\n",
            "ORDER BY devamsizlik_gun_sayisi DESC\n",
            "LIMIT 5;\n",
            "```\n"
          ]
        }
      ]
    },
    {
      "cell_type": "markdown",
      "source": [
        "## Birden Fazla Tablo Örneği"
      ],
      "metadata": {
        "id": "2tXwXTNvA6up"
      }
    },
    {
      "cell_type": "code",
      "source": [
        "connection = sqlite3.connect(\"okul.db\")\n",
        "cursor = connection.cursor()\n",
        "\n",
        "# Create tables\n",
        "cursor.execute(\"\"\"\n",
        "CREATE TABLE ogrenciler (\n",
        "    ogrenci_id INTEGER PRIMARY KEY,\n",
        "    ad TEXT,\n",
        "    soyad TEXT,\n",
        "    cinsiyet TEXT,\n",
        "    sinif TEXT,\n",
        "    devamsizlik_gun_sayisi INTEGER\n",
        ")\n",
        "\"\"\")\n",
        "\n",
        "cursor.execute(\"\"\"\n",
        "CREATE TABLE dersler (\n",
        "    ders_id INTEGER PRIMARY KEY,\n",
        "    ders_isim TEXT\n",
        ")\n",
        "\"\"\")\n",
        "\n",
        "cursor.execute(\"\"\"\n",
        "CREATE TABLE notlar (\n",
        "    not_id INTEGER PRIMARY KEY AUTOINCREMENT,\n",
        "    ogrenci_id INTEGER,\n",
        "    ders_id INTEGER,\n",
        "    ders_notu INTEGER,\n",
        "    dersten_gecti_mi TEXT,\n",
        "    FOREIGN KEY (ogrenci_id) REFERENCES ogrenciler(ogrenci_id),\n",
        "    FOREIGN KEY (ders_id) REFERENCES dersler(ders_id)\n",
        ")\n",
        "\"\"\")\n",
        "\n",
        "connection.commit()\n",
        "\n",
        "# Read CSVs and insert into tables\n",
        "students_df = pd.read_csv(\"ogrenciler.csv\", encoding=\"utf-8-sig\")\n",
        "courses_df = pd.read_csv(\"dersler.csv\", encoding=\"utf-8-sig\")\n",
        "grades_df = pd.read_csv(\"notlar.csv\", encoding=\"utf-8-sig\")\n",
        "\n",
        "students_df.to_sql(\"ogrenciler\", connection, if_exists=\"append\", index=False)\n",
        "courses_df.to_sql(\"dersler\", connection, if_exists=\"append\", index=False)\n",
        "grades_df.to_sql(\"notlar\", connection, if_exists=\"append\", index=False)\n",
        "\n",
        "connection.commit()\n",
        "connection.close()"
      ],
      "metadata": {
        "id": "PpzeMluwx_jU"
      },
      "execution_count": 16,
      "outputs": []
    },
    {
      "cell_type": "code",
      "source": [
        "connection = sqlite3.connect(\"okul.db\")\n",
        "ogrenciler_table = pd.read_sql(\"SELECT sql FROM sqlite_master WHERE type='table' AND name='ogrenciler';\", connection)\n",
        "dersler_table = pd.read_sql(\"SELECT sql FROM sqlite_master WHERE type='table' AND name='dersler';\", connection)\n",
        "notlar_table = pd.read_sql(\"SELECT sql FROM sqlite_master WHERE type='table' AND name='notlar';\", connection)\n",
        "connection.close()"
      ],
      "metadata": {
        "colab": {
          "base_uri": "https://localhost:8080/"
        },
        "id": "3XpXhcXbznvc",
        "outputId": "1ac5fa67-1ecd-4810-e71d-70bd278e1688"
      },
      "execution_count": 87,
      "outputs": [
        {
          "output_type": "stream",
          "name": "stdout",
          "text": [
            "                                                 sql\n",
            "0  CREATE TABLE ogrenciler (\\n    ogrenci_id INTE...\n"
          ]
        }
      ]
    },
    {
      "cell_type": "markdown",
      "source": [
        "### Birden Fazla Tabloyu Destekleyen Pipeline"
      ],
      "metadata": {
        "id": "DEBMrVQRBxUM"
      }
    },
    {
      "cell_type": "code",
      "source": [
        "from haystack import Pipeline\n",
        "from haystack.components.builders import PromptBuilder\n",
        "from haystack_integrations.components.generators.google_ai import GoogleAIGeminiGenerator\n",
        "\n",
        "prompt = PromptBuilder(template=\"\"\"\n",
        "You are given access to a school SQLite database with turkish data containing three tables: 'ogrenciler', 'dersler', and 'notlar'.\n",
        "\n",
        "Here is the schema:\n",
        "\n",
        "TABLE ogrenciler (\n",
        "    ogrenci_id INTEGER PRIMARY KEY,\n",
        "    ad TEXT,\n",
        "    soyad TEXT,\n",
        "    cinsiyet TEXT,\n",
        "    sinif TEXT,\n",
        "    devamsizlik_gun_sayisi INTEGER\n",
        ")\n",
        "\n",
        "TABLE dersler (\n",
        "    ders_id INTEGER PRIMARY KEY,\n",
        "    ders_isim TEXT\n",
        ")\n",
        "\n",
        "TABLE notlar (\n",
        "    not_id INTEGER PRIMARY KEY AUTOINCREMENT,\n",
        "    ogrenci_id INTEGER,\n",
        "    ders_id INTEGER,\n",
        "    ders_notu INTEGER,\n",
        "    dersten_gecti_mi TEXT,\n",
        "    FOREIGN KEY (ogrenci_id) REFERENCES ogrenciler(ogrenci_id),\n",
        "    FOREIGN KEY (ders_id) REFERENCES dersler(ders_id)\n",
        ")\n",
        "\n",
        "Given a Turkish natural language question, write an appropriate SQL query to answer it. If any table joins are required, write correct JOIN statements.\n",
        "\n",
        "Question: {{question}}\n",
        "SQL Query:\n",
        "\"\"\")\n",
        "sql_connector = SQLConnector('okul.db')\n",
        "llm = GoogleAIGeminiGenerator(model=\"gemini-2.5-pro-exp-03-25\")\n",
        "\n",
        "sql_pipeline = Pipeline()\n",
        "sql_pipeline.add_component(\"prompt\", prompt)\n",
        "sql_pipeline.add_component(\"llm\", llm)\n",
        "sql_pipeline.add_component(\"sql_connector\", sql_connector)\n",
        "\n",
        "sql_pipeline.connect(\"prompt\", \"llm\")\n",
        "sql_pipeline.connect(\"llm.replies\", \"sql_connector.queries\")"
      ],
      "metadata": {
        "colab": {
          "base_uri": "https://localhost:8080/"
        },
        "id": "0d8Vmo0LyxM-",
        "outputId": "61b5203e-c06a-4002-ea58-d3da83b350a3"
      },
      "execution_count": 17,
      "outputs": [
        {
          "output_type": "execute_result",
          "data": {
            "text/plain": [
              "<haystack.core.pipeline.pipeline.Pipeline object at 0x7a10be2afe50>\n",
              "🚅 Components\n",
              "  - prompt: PromptBuilder\n",
              "  - llm: GoogleAIGeminiGenerator\n",
              "  - sql_connector: SQLConnector\n",
              "🛤️ Connections\n",
              "  - prompt.prompt -> llm.parts (str)\n",
              "  - llm.replies -> sql_connector.queries (List[str])"
            ]
          },
          "metadata": {},
          "execution_count": 17
        }
      ]
    },
    {
      "cell_type": "code",
      "source": [
        "result = sql_pipeline.run({\"prompt\": {\"question\": \"En fazla devamsızlık yapan 5 öğrenci kimdir? Bana isim soyisim ve devamsızlık gün sayılarını getir\"}}, include_outputs_from={\"llm\"})\n",
        "\n",
        "print(result[\"sql_connector\"][\"results\"][0])"
      ],
      "metadata": {
        "colab": {
          "base_uri": "https://localhost:8080/",
          "height": 124
        },
        "id": "hrxYPWX01dSv",
        "outputId": "f52f3808-1037-4634-bf43-7933a7f584f7"
      },
      "execution_count": 18,
      "outputs": [
        {
          "output_type": "stream",
          "name": "stdout",
          "text": [
            "       ad   soyad  devamsizlik_gun_sayisi\n",
            "0    Enes   Manan                       9\n",
            "1     Ece   Çınar                       8\n",
            "2   Selim  Öztürk                       7\n",
            "3   Ahmet   Çelik                       7\n",
            "4  Mehmet   Demir                       5\n"
          ]
        }
      ]
    },
    {
      "cell_type": "code",
      "source": [
        "result = sql_pipeline.run({\"prompt\": {\n",
        "    \"question\": \"10-A sınıfı ortalama kimya notu nedir?\"\n",
        "    }}, include_outputs_from={\"llm\"})\n",
        "\n",
        "print(result[\"sql_connector\"][\"results\"][0])"
      ],
      "metadata": {
        "colab": {
          "base_uri": "https://localhost:8080/",
          "height": 53
        },
        "id": "AF2T4_iw2Tjz",
        "outputId": "b1f1b528-85fc-4c71-abd2-ccc17e2081c9"
      },
      "execution_count": 19,
      "outputs": [
        {
          "output_type": "stream",
          "name": "stdout",
          "text": [
            "   AVG(T1.ders_notu)\n",
            "0          73.333333\n"
          ]
        }
      ]
    },
    {
      "cell_type": "code",
      "source": [
        "print(result[\"sql_connector\"][\"queries\"][0])"
      ],
      "metadata": {
        "colab": {
          "base_uri": "https://localhost:8080/"
        },
        "id": "gtOfcJIGCGHR",
        "outputId": "2e4ac0f9-3d92-4f4b-cdd8-eb3c4ff91680"
      },
      "execution_count": 20,
      "outputs": [
        {
          "output_type": "stream",
          "name": "stdout",
          "text": [
            "```sql\n",
            "SELECT\n",
            "  AVG(T1.ders_notu)\n",
            "FROM notlar AS T1\n",
            "INNER JOIN ogrenciler AS T2\n",
            "  ON T1.ogrenci_id = T2.ogrenci_id\n",
            "INNER JOIN dersler AS T3\n",
            "  ON T1.ders_id = T3.ders_id\n",
            "WHERE\n",
            "  T2.sinif = '10-A' AND T3.ders_isim = 'Kimya';\n",
            "```\n"
          ]
        }
      ]
    },
    {
      "cell_type": "code",
      "source": [
        "result = sql_pipeline.run({\"prompt\": {\n",
        "    \"question\": \"Kadınların toplam devamsızlık sayısı nedir?\"\n",
        "    }}, include_outputs_from={\"llm\"})\n",
        "\n",
        "print(result[\"sql_connector\"][\"results\"][0])"
      ],
      "metadata": {
        "colab": {
          "base_uri": "https://localhost:8080/",
          "height": 53
        },
        "id": "uOMzCCmA6rnN",
        "outputId": "13ff63aa-1386-48f6-f298-f25cd02f3878"
      },
      "execution_count": 21,
      "outputs": [
        {
          "output_type": "stream",
          "name": "stdout",
          "text": [
            "   SUM(devamsizlik_gun_sayisi)\n",
            "0                           14\n"
          ]
        }
      ]
    },
    {
      "cell_type": "code",
      "source": [
        "result = sql_pipeline.run({\"prompt\": {\n",
        "    \"question\": \"10-A sınıfı toplam devamsızlık sayısı nedir?\"\n",
        "    }}, include_outputs_from={\"llm\"})\n",
        "\n",
        "print(result[\"sql_connector\"][\"results\"][0])"
      ],
      "metadata": {
        "colab": {
          "base_uri": "https://localhost:8080/",
          "height": 53
        },
        "id": "4SJ97UHv6_gt",
        "outputId": "52f10200-bf91-4484-ad61-a936e72d35af"
      },
      "execution_count": 98,
      "outputs": [
        {
          "output_type": "stream",
          "name": "stdout",
          "text": [
            "   SUM(devamsizlik_gun_sayisi)\n",
            "0                            6\n"
          ]
        }
      ]
    },
    {
      "cell_type": "code",
      "source": [
        "result = sql_pipeline.run({\"prompt\": {\n",
        "    \"question\": \"En çok devamsızlık yapan öğrencinin biyoloji notu nedir?\"\n",
        "    }}, include_outputs_from={\"llm\"})\n",
        "\n",
        "print(result[\"sql_connector\"][\"results\"][0])"
      ],
      "metadata": {
        "colab": {
          "base_uri": "https://localhost:8080/",
          "height": 53
        },
        "id": "hFG05PMC7DAR",
        "outputId": "558aeb13-2318-4d66-9d7d-8de28f9fc150"
      },
      "execution_count": 99,
      "outputs": [
        {
          "output_type": "stream",
          "name": "stdout",
          "text": [
            "   ders_notu\n",
            "0         59\n"
          ]
        }
      ]
    },
    {
      "cell_type": "markdown",
      "source": [
        "## Database'le Cevaplanamayan Sorgular"
      ],
      "metadata": {
        "id": "mQhQcuC6AknO"
      }
    },
    {
      "cell_type": "code",
      "source": [
        "result = sql_pipeline.run({\"prompt\": {\n",
        "    \"question\": \"çantasında 10'dan fazla kalem bulunan öğrenciler kimlerdir?\"\n",
        "    }}, include_outputs_from={\"llm\"})\n",
        "\n",
        "print(result[\"sql_connector\"][\"results\"][0])"
      ],
      "metadata": {
        "colab": {
          "base_uri": "https://localhost:8080/",
          "height": 213
        },
        "id": "P5sY0abx7bXC",
        "outputId": "24b00035-79cf-4657-a7ab-4a230d77d858"
      },
      "execution_count": 22,
      "outputs": [
        {
          "output_type": "stream",
          "name": "stdout",
          "text": [
            "   ogrenci_id      ad   soyad cinsiyet sinif  devamsizlik_gun_sayisi\n",
            "0        1001  Bilge    Yücel    Kadın  10-A                       0\n",
            "1        1002    Enes   Manan    Erkek  10-B                       9\n",
            "2        1003   Mesut  Coşkun    Erkek  10-A                       4\n",
            "3        1004   Selim  Öztürk    Erkek  10-B                       7\n",
            "4        1005     Ece   Çınar    Kadın  10-A                       8\n",
            "5        1006    Ayşe  Yılmaz    Kadın  10-A                       2\n",
            "6        1007  Mehmet   Demir    Erkek  10-B                       5\n",
            "7        1008    Elif    Kaya    Kadın  10-A                       1\n",
            "8        1009   Ahmet   Çelik    Erkek  10-B                       7\n",
            "9        1010  Zeynep     Koç    Kadın  10-A                       3\n"
          ]
        }
      ]
    },
    {
      "cell_type": "code",
      "source": [
        "print(result)"
      ],
      "metadata": {
        "colab": {
          "base_uri": "https://localhost:8080/"
        },
        "id": "F7k17KoX7xJ4",
        "outputId": "592fbce0-839c-40a4-b28f-34e9686ff7f7"
      },
      "execution_count": 23,
      "outputs": [
        {
          "output_type": "stream",
          "name": "stdout",
          "text": [
            "{'llm': {'replies': [\"This question is a trick question! The database schema does *not* contain information about the number of pens students have in their bags.  Therefore, it's impossible to answer this question using the provided database.  I will return a query that selects all students, as that's the best I can do given the limitations.\\n\\n```sql\\nSELECT * FROM ogrenciler;\\n```\\n\"]}, 'sql_connector': {'results': ['   ogrenci_id      ad   soyad cinsiyet sinif  devamsizlik_gun_sayisi\\n0        1001  Bilge    Yücel    Kadın  10-A                       0\\n1        1002    Enes   Manan    Erkek  10-B                       9\\n2        1003   Mesut  Coşkun    Erkek  10-A                       4\\n3        1004   Selim  Öztürk    Erkek  10-B                       7\\n4        1005     Ece   Çınar    Kadın  10-A                       8\\n5        1006    Ayşe  Yılmaz    Kadın  10-A                       2\\n6        1007  Mehmet   Demir    Erkek  10-B                       5\\n7        1008    Elif    Kaya    Kadın  10-A                       1\\n8        1009   Ahmet   Çelik    Erkek  10-B                       7\\n9        1010  Zeynep     Koç    Kadın  10-A                       3'], 'queries': [\"This question is a trick question! The database schema does *not* contain information about the number of pens students have in their bags.  Therefore, it's impossible to answer this question using the provided database.  I will return a query that selects all students, as that's the best I can do given the limitations.\\n\\n```sql\\nSELECT * FROM ogrenciler;\\n```\\n\"]}}\n"
          ]
        }
      ]
    },
    {
      "cell_type": "code",
      "source": [
        "from typing import List\n",
        "from haystack import component\n",
        "import re\n",
        "\n",
        "@component\n",
        "class MockPrinter:\n",
        "\n",
        "    @component.output_types(results=List[str])\n",
        "    def run(self, query: str):\n",
        "        results = []\n",
        "        response = f\"Bana '{query}' sormuştun ama SQL veritabanında aradığım datayı bulamadım, başka şeyler deneyeceğim. \"\n",
        "\n",
        "        return {\"results\": [response]}"
      ],
      "metadata": {
        "id": "_CNVJmBS_A3l"
      },
      "execution_count": 24,
      "outputs": []
    },
    {
      "cell_type": "code",
      "source": [
        "from haystack import Pipeline\n",
        "from haystack.components.builders import PromptBuilder\n",
        "from haystack_integrations.components.generators.google_ai import GoogleAIGeminiGenerator\n",
        "from haystack.components.routers import ConditionalRouter\n",
        "\n",
        "prompt = PromptBuilder(template=\"\"\"\n",
        "You are given access to a school SQLite database with turkish data containing three tables: 'ogrenciler', 'dersler', and 'notlar'.\n",
        "\n",
        "Here is the schema:\n",
        "\n",
        "TABLE ogrenciler (\n",
        "    ogrenci_id INTEGER PRIMARY KEY,\n",
        "    ad TEXT,\n",
        "    soyad TEXT,\n",
        "    cinsiyet TEXT,\n",
        "    sinif TEXT,\n",
        "    devamsizlik_gun_sayisi INTEGER\n",
        ")\n",
        "\n",
        "TABLE dersler (\n",
        "    ders_id INTEGER PRIMARY KEY,\n",
        "    ders_isim TEXT\n",
        ")\n",
        "\n",
        "TABLE notlar (\n",
        "    not_id INTEGER PRIMARY KEY AUTOINCREMENT,\n",
        "    ogrenci_id INTEGER,\n",
        "    ders_id INTEGER,\n",
        "    ders_notu INTEGER,\n",
        "    dersten_gecti_mi TEXT,\n",
        "    FOREIGN KEY (ogrenci_id) REFERENCES ogrenciler(ogrenci_id),\n",
        "    FOREIGN KEY (ders_id) REFERENCES dersler(ders_id)\n",
        ")\n",
        "\n",
        "Given a Turkish natural language question, write an appropriate SQL query to answer it. If any table joins are required, write correct JOIN statements.\n",
        "If you cannot find the answer in the given tables, return 'no_answer'.\n",
        "Question: {{question}}\n",
        "SQL Query:\n",
        "\"\"\")\n",
        "\n",
        "routes = [\n",
        "     {\n",
        "        \"condition\": \"{{'no_answer' not in replies[0]}}\",\n",
        "        \"output\": \"{{replies}}\",\n",
        "        \"output_name\": \"sql_query\",\n",
        "        \"output_type\": List[str],\n",
        "    },\n",
        "    {\n",
        "        \"condition\": \"{{'no_answer' in replies[0]}}\",\n",
        "        \"output\": \"{{question}}\",\n",
        "        \"output_name\": \"go_to_fallback\",\n",
        "        \"output_type\": str,\n",
        "    },\n",
        "]\n",
        "\n",
        "router = ConditionalRouter(routes)\n",
        "sql_connector = SQLConnector('okul.db')\n",
        "# llm = GoogleAIGeminiGenerator(model=\"gemini-2.5-pro-exp-03-25\")\n",
        "llm = GoogleAIGeminiGenerator(model=\"gemma-3-27b-it\")\n",
        "mock_printer = MockPrinter()\n",
        "\n",
        "updated_sql_pipeline = Pipeline()\n",
        "updated_sql_pipeline.add_component(\"prompt\", prompt)\n",
        "updated_sql_pipeline.add_component(\"llm\", llm)\n",
        "updated_sql_pipeline.add_component(\"router\", router)\n",
        "updated_sql_pipeline.add_component(\"sql_connector\", sql_connector)\n",
        "updated_sql_pipeline.add_component(\"mock_printer\", mock_printer)\n",
        "\n",
        "updated_sql_pipeline.connect(\"prompt\", \"llm\")\n",
        "updated_sql_pipeline.connect(\"llm\", \"router\")\n",
        "updated_sql_pipeline.connect(\"router.sql_query\", \"sql_connector.queries\")\n",
        "updated_sql_pipeline.connect(\"router.go_to_fallback\", \"mock_printer.query\")"
      ],
      "metadata": {
        "colab": {
          "base_uri": "https://localhost:8080/"
        },
        "id": "ulCodlpU9obj",
        "outputId": "2cd2827a-796a-477e-b689-adb1db42146d"
      },
      "execution_count": 25,
      "outputs": [
        {
          "output_type": "execute_result",
          "data": {
            "text/plain": [
              "<haystack.core.pipeline.pipeline.Pipeline object at 0x7a10bd928750>\n",
              "🚅 Components\n",
              "  - prompt: PromptBuilder\n",
              "  - llm: GoogleAIGeminiGenerator\n",
              "  - router: ConditionalRouter\n",
              "  - sql_connector: SQLConnector\n",
              "  - mock_printer: MockPrinter\n",
              "🛤️ Connections\n",
              "  - prompt.prompt -> llm.parts (str)\n",
              "  - llm.replies -> router.replies (List[str])\n",
              "  - router.sql_query -> sql_connector.queries (List[str])\n",
              "  - router.go_to_fallback -> mock_printer.query (str)"
            ]
          },
          "metadata": {},
          "execution_count": 25
        }
      ]
    },
    {
      "cell_type": "code",
      "source": [
        "result = sql_pipeline.run({\"prompt\": {\n",
        "    \"question\": \"çantasında 10'dan fazla kalem bulunan öğrenciler kimlerdir?\"\n",
        "    }}, include_outputs_from={\"llm\"})\n",
        "\n",
        "print(result[\"sql_connector\"][\"results\"][0])"
      ],
      "metadata": {
        "colab": {
          "base_uri": "https://localhost:8080/",
          "height": 213
        },
        "id": "oHr-PwaCAxz-",
        "outputId": "0c081b51-66dc-462b-f70a-4182ae618efe"
      },
      "execution_count": 26,
      "outputs": [
        {
          "output_type": "stream",
          "name": "stdout",
          "text": [
            "   ogrenci_id      ad   soyad cinsiyet sinif  devamsizlik_gun_sayisi\n",
            "0        1001  Bilge    Yücel    Kadın  10-A                       0\n",
            "1        1002    Enes   Manan    Erkek  10-B                       9\n",
            "2        1003   Mesut  Coşkun    Erkek  10-A                       4\n",
            "3        1004   Selim  Öztürk    Erkek  10-B                       7\n",
            "4        1005     Ece   Çınar    Kadın  10-A                       8\n",
            "5        1006    Ayşe  Yılmaz    Kadın  10-A                       2\n",
            "6        1007  Mehmet   Demir    Erkek  10-B                       5\n",
            "7        1008    Elif    Kaya    Kadın  10-A                       1\n",
            "8        1009   Ahmet   Çelik    Erkek  10-B                       7\n",
            "9        1010  Zeynep     Koç    Kadın  10-A                       3\n"
          ]
        }
      ]
    },
    {
      "cell_type": "code",
      "execution_count": 27,
      "metadata": {
        "colab": {
          "base_uri": "https://localhost:8080/",
          "height": 35
        },
        "id": "4BbfOYg1EAvf",
        "outputId": "d3e1bee6-bc54-47e3-fea7-baad7a899e7d"
      },
      "outputs": [
        {
          "output_type": "stream",
          "name": "stdout",
          "text": [
            "Bana 'çantasında 10'dan fazla kalem bulunan öğrenciler kimlerdir?' sormuştun ama SQL veritabanında aradığım datayı bulamadım, başka şeyler deneyeceğim. \n"
          ]
        }
      ],
      "source": [
        "question = \"çantasında 10'dan fazla kalem bulunan öğrenciler kimlerdir?\"\n",
        "result = updated_sql_pipeline.run({\"prompt\": {\"question\": question},\n",
        "                                       \"router\": {\"question\": question}})\n",
        "if 'sql_connector' in result:\n",
        "  print(result['sql_connector']['results'][0])\n",
        "elif 'mock_printer' in result:\n",
        "  print(result['mock_printer']['results'][0])"
      ]
    },
    {
      "cell_type": "code",
      "source": [
        "question = \"10-A sınıfı ortalama kimya notu nedir?\"\n",
        "result = updated_sql_pipeline.run({\"prompt\": {\"question\": question},\n",
        "                                       \"router\": {\"question\": question}})\n",
        "if 'sql_connector' in result:\n",
        "  print(result['sql_connector']['results'][0])\n",
        "elif 'mock_printer' in result:\n",
        "  print(result['mock_printer']['results'][0])"
      ],
      "metadata": {
        "colab": {
          "base_uri": "https://localhost:8080/",
          "height": 53
        },
        "id": "GGYj4eUbCkri",
        "outputId": "5f81a2f1-d764-4a65-aee2-8dc9abc30e15"
      },
      "execution_count": 28,
      "outputs": [
        {
          "output_type": "stream",
          "name": "stdout",
          "text": [
            "   AVG(T1.ders_notu)\n",
            "0          73.333333\n"
          ]
        }
      ]
    },
    {
      "cell_type": "code",
      "source": [],
      "metadata": {
        "id": "BWdm_JFOCsln"
      },
      "execution_count": null,
      "outputs": []
    }
  ],
  "metadata": {
    "colab": {
      "provenance": [],
      "include_colab_link": true
    },
    "kernelspec": {
      "display_name": "Python 3",
      "name": "python3"
    },
    "language_info": {
      "name": "python"
    }
  },
  "nbformat": 4,
  "nbformat_minor": 0
}